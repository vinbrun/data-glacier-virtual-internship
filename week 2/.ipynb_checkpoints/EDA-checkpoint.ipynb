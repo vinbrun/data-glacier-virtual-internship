{
 "cells": [
  {
   "attachments": {},
   "cell_type": "markdown",
   "id": "f72b8ec9-bf06-4f44-bde8-fe2f9d804e8e",
   "metadata": {},
   "source": [
    "# Exploratory Data Analysis for Cab Investment Project, by Vinicius Brun, 2024\n",
    "\n",
    "## What is the business problem?\n",
    "    The business problem is to determine the best cab company for investment: pink company vs yellow company. \n",
    "    To do that, I research for references about techniques to compare two companies and found Ratio Analysis (Chen, 2023). These are a series of quantitaive indicators used by investor to compare companies. Not all of them can be used with our data, but some of them can:\n",
    "    - Net Profit Margin = Net Profit ⁄ Total Revenue x 100\n",
    "    - Operating Margin Ratio = Net Operating Income / Total Revenue\n",
    "\n",
    "    Other ratios that could be calculated with more financial data are: Price-to-Earnings Ratio, Return on Assets Ratio and Return on Equity Ratio. \n",
    "\n",
    "    Another important analysis is about the taxi market. Recently ride share apps have become proeminent worldwide, but data indicates that the cab market remains strong (Statista, 2024). Research indicates that these two categories appeal to different customers.\n",
    "    \"Young people may be gravitating towards ride-sourcing because it presents a cost advantage over conventional taxis and is much more convenient in terms of service delivery. However, their use of ride-hailing services does not seem to be significant enough for it to be a threat to conventional taxis since few reported using their apps as their primary mode of transport or with high regularity (less than 2 weeks). Respondents tended to use ride-sourcing services for trips which were more social and were more likely to use them on trips during weekends, further demonstrating its limited use\" (Dzisi et al., 2020).\n",
    "\n",
    "    This indicates that, even though lyft apps have gained stagering proporitons, taxi companies are still relevant for investment. \n",
    "    \n",
    "    In this exercise, we used data from 2016 to 2018, before the COIVD-19 outbreak, so we will not be considering it in the analysis. \n",
    "    \n",
    "## References:\n",
    "Chen, J. (2023, March 23). How does ratio analysis make it easier to compare different companies? Investopedia. https://www.investopedia.com/ask/answers/032315/how-does-ratio-analysis-make-it-easier-compare-different-companies.asp\n",
    "Dzisi, E. K., Ackaah, W., Aprimah, B. A., & Adjei, E. (2020). Understanding demographics of ride-sourcing and the factors that underlie its use among young people. Scientific African, 7, e00288. https://doi.org/10.1016/j.sciaf.2020.e00288\n",
    "Meng, Chuan & Kaiyrbayeva, Ainur. (2024). FACTORS INFLUENCING THE DECISION TO INVEST. Izdenister natigeler. 566-572. 10.37884/2-2024/55.\n",
    "Statista. (2024). Taxi - United States | Statista Market Forecast.https://www.statista.com/outlook/mmo/shared-mobility/taxi/united-states#revenue\n"
   ]
  },
  {
   "cell_type": "code",
   "execution_count": null,
   "id": "3251fe0a-589f-4852-acaa-a30f31a222aa",
   "metadata": {},
   "outputs": [],
   "source": []
  },
  {
   "cell_type": "markdown",
   "id": "ab44d86e-4a22-488e-bf67-083f104b2924",
   "metadata": {},
   "source": []
  }
 ],
 "metadata": {
  "kernelspec": {
   "display_name": "Python 3 (ipykernel)",
   "language": "python",
   "name": "python3"
  },
  "language_info": {
   "codemirror_mode": {
    "name": "ipython",
    "version": 3
   },
   "file_extension": ".py",
   "mimetype": "text/x-python",
   "name": "python",
   "nbconvert_exporter": "python",
   "pygments_lexer": "ipython3",
   "version": "3.12.5"
  }
 },
 "nbformat": 4,
 "nbformat_minor": 5
}
